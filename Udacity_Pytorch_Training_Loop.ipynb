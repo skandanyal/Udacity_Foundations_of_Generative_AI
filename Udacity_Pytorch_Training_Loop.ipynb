{
  "nbformat": 4,
  "nbformat_minor": 0,
  "metadata": {
    "colab": {
      "provenance": [],
      "authorship_tag": "ABX9TyPSU9ifYwsoAqeBoiHnaYRK",
      "include_colab_link": true
    },
    "kernelspec": {
      "name": "python3",
      "display_name": "Python 3"
    },
    "language_info": {
      "name": "python"
    }
  },
  "cells": [
    {
      "cell_type": "markdown",
      "metadata": {
        "id": "view-in-github",
        "colab_type": "text"
      },
      "source": [
        "<a href=\"https://colab.research.google.com/github/skandanyal/Udacity_Foundations_of_Generative_AI/blob/main/Udacity_Pytorch_Training_Loop.ipynb\" target=\"_parent\"><img src=\"https://colab.research.google.com/assets/colab-badge.svg\" alt=\"Open In Colab\"/></a>"
      ]
    },
    {
      "cell_type": "markdown",
      "source": [
        "# Pytorch Training loop"
      ],
      "metadata": {
        "id": "GYTm1SRKDhTr"
      }
    },
    {
      "cell_type": "markdown",
      "source": [
        "## Create a Number Sum Dataset"
      ],
      "metadata": {
        "id": "danNHsL5DnBT"
      }
    },
    {
      "cell_type": "code",
      "execution_count": null,
      "metadata": {
        "id": "_VwSJS4_DdTu"
      },
      "outputs": [],
      "source": [
        "import torch\n",
        "from torch.utils.data import Dataset"
      ]
    },
    {
      "cell_type": "code",
      "source": [
        "class NumberSumDataset(Dataset):\n",
        "    def __init__(self, data_range=(1,10)):\n",
        "        self.numbers = list(range(data_range[0], data_range[1]))\n",
        "\n",
        "    def __getitem__(self, index):\n",
        "        number1 = float(self.numbers[index // len(self.numbers)])\n",
        "        number2 = float(self.numbers[index % len(self.numbers)])\n",
        "        return torch.tensor([number1, number2]), torch.tensor([number1 + number2])\n",
        "\n",
        "    def __len__(self):\n",
        "        return len(self.numbers) ** 2"
      ],
      "metadata": {
        "id": "_GCCQYvDDlXs"
      },
      "execution_count": null,
      "outputs": []
    },
    {
      "cell_type": "code",
      "source": [
        "dataset = NumberSumDataset(data_range=(1,100))\n",
        "\n",
        "for i in range(50, 60):\n",
        "    print(dataset[i])"
      ],
      "metadata": {
        "colab": {
          "base_uri": "https://localhost:8080/"
        },
        "id": "4NCGr8LXIpep",
        "outputId": "4d0de970-d5df-4973-c2ba-0f1c6f31fffc"
      },
      "execution_count": null,
      "outputs": [
        {
          "output_type": "stream",
          "name": "stdout",
          "text": [
            "(tensor([ 1., 51.]), tensor(52.))\n",
            "(tensor([ 1., 52.]), tensor(53.))\n",
            "(tensor([ 1., 53.]), tensor(54.))\n",
            "(tensor([ 1., 54.]), tensor(55.))\n",
            "(tensor([ 1., 55.]), tensor(56.))\n",
            "(tensor([ 1., 56.]), tensor(57.))\n",
            "(tensor([ 1., 57.]), tensor(58.))\n",
            "(tensor([ 1., 58.]), tensor(59.))\n",
            "(tensor([ 1., 59.]), tensor(60.))\n",
            "(tensor([ 1., 60.]), tensor(61.))\n"
          ]
        }
      ]
    },
    {
      "cell_type": "markdown",
      "source": [
        "Creating a Multilayer Perceptron with 128 hidden layers"
      ],
      "metadata": {
        "id": "qFVlVZkkI_8w"
      }
    },
    {
      "cell_type": "code",
      "source": [
        "class MLP(torch.nn.Module):\n",
        "    def __init__(self, input_size):\n",
        "        super(MLP, self).__init__()\n",
        "        self.hidden_layer = torch.nn.Linear(input_size, 128)\n",
        "        self.output_layer = torch.nn.Linear(128, 1)\n",
        "        self.activation = torch.nn.ReLU() # Activation function\n",
        "\n",
        "    def forward(self, x):\n",
        "        x = self.activation(self.hidden_layer(x))\n",
        "        return self.output_layer(x)"
      ],
      "metadata": {
        "id": "pvU8Rxv-I9tK"
      },
      "execution_count": null,
      "outputs": []
    },
    {
      "cell_type": "markdown",
      "source": [
        "Instantiate Components Needed for Training"
      ],
      "metadata": {
        "id": "6aXncdlVKAG4"
      }
    },
    {
      "cell_type": "code",
      "source": [
        "from torch.utils.data import DataLoader\n",
        "\n",
        "dataset = NumberSumDataset(data_range=(0,100))\n",
        "dataloader = DataLoader(dataset, batch_size=100, shuffle=True)\n",
        "model = MLP(input_size=2)\n",
        "loss_function = torch.nn.MSELoss()\n",
        "optimizer = torch.optim.Adam(model.parameters(), lr=0.01)"
      ],
      "metadata": {
        "id": "AMn5FYDJJ_oY"
      },
      "execution_count": null,
      "outputs": []
    },
    {
      "cell_type": "markdown",
      "source": [
        "Create a Training Loop"
      ],
      "metadata": {
        "id": "5ydwMvv_LZQU"
      }
    },
    {
      "cell_type": "code",
      "source": [
        "# Train model for 10 epochs\n",
        "for epoch in range(30):\n",
        "    epoch_loss = 0.0\n",
        "    for number_pairs, sums in dataloader: # iterate over batches\n",
        "        predictions = model(number_pairs) # compute the model output\n",
        "        loss = loss_function(predictions, sums) # compute the loss\n",
        "        loss.backward() # perform backpropagation\n",
        "        optimizer.step() # update the parameters\n",
        "        optimizer.zero_grad() # zero the gradients\n",
        "\n",
        "        epoch_loss += loss.item()\n",
        "\n",
        "    # Peint the loss for this epoch\n",
        "    print(f\"Epoch {epoch}: Sum of Batch losses = {epoch_loss:.5f}.\")"
      ],
      "metadata": {
        "colab": {
          "base_uri": "https://localhost:8080/"
        },
        "id": "9ascFz8tLcJV",
        "outputId": "a14a3868-06a2-475d-c6f7-21492b5c0ccf"
      },
      "execution_count": null,
      "outputs": [
        {
          "output_type": "stream",
          "name": "stdout",
          "text": [
            "Epoch 0: Sum of Batch losses = 46174.48047.\n",
            "Epoch 1: Sum of Batch losses = 16.14861.\n",
            "Epoch 2: Sum of Batch losses = 6.21353.\n",
            "Epoch 3: Sum of Batch losses = 3.84963.\n",
            "Epoch 4: Sum of Batch losses = 2.59699.\n",
            "Epoch 5: Sum of Batch losses = 1.85646.\n",
            "Epoch 6: Sum of Batch losses = 1.42251.\n",
            "Epoch 7: Sum of Batch losses = 1.12149.\n",
            "Epoch 8: Sum of Batch losses = 0.91622.\n",
            "Epoch 9: Sum of Batch losses = 0.73858.\n",
            "Epoch 10: Sum of Batch losses = 0.63497.\n",
            "Epoch 11: Sum of Batch losses = 0.53962.\n",
            "Epoch 12: Sum of Batch losses = 0.47068.\n",
            "Epoch 13: Sum of Batch losses = 0.44677.\n",
            "Epoch 14: Sum of Batch losses = 0.39079.\n",
            "Epoch 15: Sum of Batch losses = 0.36014.\n",
            "Epoch 16: Sum of Batch losses = 0.33057.\n",
            "Epoch 17: Sum of Batch losses = 0.31856.\n",
            "Epoch 18: Sum of Batch losses = 0.28578.\n",
            "Epoch 19: Sum of Batch losses = 0.26262.\n",
            "Epoch 20: Sum of Batch losses = 0.24047.\n",
            "Epoch 21: Sum of Batch losses = 0.20654.\n",
            "Epoch 22: Sum of Batch losses = 0.20847.\n",
            "Epoch 23: Sum of Batch losses = 0.18944.\n",
            "Epoch 24: Sum of Batch losses = 0.15741.\n",
            "Epoch 25: Sum of Batch losses = 0.13548.\n",
            "Epoch 26: Sum of Batch losses = 0.11573.\n",
            "Epoch 27: Sum of Batch losses = 0.10492.\n",
            "Epoch 28: Sum of Batch losses = 0.10427.\n",
            "Epoch 29: Sum of Batch losses = 0.08740.\n"
          ]
        }
      ]
    },
    {
      "cell_type": "markdown",
      "source": [
        "Damn, that is some huge loss values that we see..."
      ],
      "metadata": {
        "id": "6px3x3h5Mqae"
      }
    },
    {
      "cell_type": "markdown",
      "source": [
        "Try the model out"
      ],
      "metadata": {
        "id": "kccUT6DrMxD1"
      }
    },
    {
      "cell_type": "code",
      "source": [
        "# test the model on 10 + 15\n",
        "# test_input = torch.tensor([10.0, 15.0]).unsqueeze(0)\n",
        "# model(test_input().item())\n",
        "\n",
        "test_input = torch.tensor([10.0, 15.0]).unsqueeze(0)  # Ensure correct shape\n",
        "print(\"Prediction for (10,15):\", model(test_input).item())"
      ],
      "metadata": {
        "colab": {
          "base_uri": "https://localhost:8080/"
        },
        "id": "RyqRgPaHMu1o",
        "outputId": "dbdc1b02-4e17-49ce-fab3-8b734818bff4"
      },
      "execution_count": null,
      "outputs": [
        {
          "output_type": "stream",
          "name": "stdout",
          "text": [
            "Prediction for (10,15): 24.95871925354004\n"
          ]
        }
      ]
    }
  ]
}